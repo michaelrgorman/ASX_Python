{
 "cells": [
  {
   "cell_type": "code",
   "execution_count": null,
   "id": "e3065bbb-edb7-4528-a3a1-6f7b9e013ca2",
   "metadata": {},
   "outputs": [],
   "source": [
    "https://youtu.be/aIzLhKF5Cfs"
   ]
  },
  {
   "cell_type": "code",
   "execution_count": null,
   "id": "23c9bde2-af35-4837-8659-0edf054c52b7",
   "metadata": {},
   "outputs": [],
   "source": [
    "import datetime as dt\n",
    "import pandas as pd\n",
    "\n",
    "import concurrent.futures as cf\n",
    "from yahoofinancials import YahooFinancials \n",
    "\n",
    "import re\n",
    "import ast\n",
    "import time\n",
    "import requests\n",
    "from bs4 import BeautifulSoup"
   ]
  },
  {
   "cell_type": "code",
   "execution_count": 15,
   "id": "fa0aa74f-4c37-40e8-bc82-d7f1718a5b4b",
   "metadata": {},
   "outputs": [],
   "source": [
    "asx_200 = 'https://www.asx200list.com/'\n",
    "all_ords = 'https://www.allordslist.com/'\n",
    "small_ords = 'https://www.smallordslist.com/'"
   ]
  },
  {
   "cell_type": "code",
   "execution_count": 16,
   "id": "0c406802-afcf-4488-b3ed-3a70251e355d",
   "metadata": {},
   "outputs": [],
   "source": [
    "header = {'User-Agent': 'Mozilla/5.0 (Macintosh; Intel Mac OS X 10_10_1) AppleWebKit/537.36 (KHTML, like Gecko) Chrome/39.0.2171.95 Safari/537.36'}"
   ]
  },
  {
   "cell_type": "code",
   "execution_count": 51,
   "id": "695ad714-ace9-4c4f-a902-de3a5cb0e806",
   "metadata": {},
   "outputs": [
    {
     "name": "stdout",
     "output_type": "stream",
     "text": [
      "ASX200 ['A2M', 'AAA', 'ABC', 'ABP', 'AFI', 'AGL', 'AIA', 'ALD', 'ALL', 'ALQ', 'ALU', 'ALX', 'AMC', 'AMP', 'ANN', 'ANZ', 'APA', 'APE', 'APT', 'APX', 'ARB', 'ARG', 'AST', 'ASX', 'AWC', 'AZJ', 'BAP', 'BEN', 'BGA', 'BHP', 'BIN', 'BKW', 'BLD', 'BOQ', 'BPT', 'BRG', 'BSL', 'BWP', 'BXB', 'CAR', 'CBA', 'CCL', 'CCP', 'CDA', 'CGF', 'CHC', 'CHN', 'CIA', 'CIM', 'CLW', 'CMW', 'CNU', 'COH', 'COL', 'CPU', 'CQR', 'CSL', 'CSR', 'CTD', 'CWN', 'CWY', 'DEG', 'DHG', 'DMP', 'DOW', 'DRR', 'DXS', 'EBO', 'ELD', 'EML', 'EVN', 'EVT', 'FBU', 'FLT', 'FMG', 'FPH', 'GMG', 'GNE', 'GOZ', 'GPT', 'GXY', 'HLS', 'HVN', 'IAG', 'IEL', 'IFL', 'IFT', 'IGO', 'ILU', 'IOO', 'IOZ', 'IPL', 'IRE', 'IVV', 'JBH', 'JHX', 'LFG', 'LFS', 'LLC', 'LNK', 'LYC', 'MCY', 'MEZ', 'MFG', 'MGF', 'MGOC', 'MGR', 'MIN', 'MLT', 'MP1', 'MPL', 'MQG', 'MTS', 'NAB', 'NCM', 'NEC', 'NHF', 'NIC', 'NSR', 'NST', 'NUF', 'NWL', 'NXT', 'ORA', 'ORE', 'ORG', 'ORI', 'OSH', 'OZL', 'PBH', 'PDL', 'PLS', 'PME', 'PMGOLD', 'PMV', 'PNI', 'PNV', 'PPT', 'PTM', 'QAN', 'QBE', 'QUB', 'REA', 'REH', 'RHC', 'RIO', 'RMD', 'RRL', 'RWC', 'S32', 'SCG', 'SCP', 'SDF', 'SEK', 'SGM', 'SGP', 'SGR', 'SHL', 'SKC', 'SKI', 'SLK', 'SNZ', 'SOL', 'SPK', 'STO', 'STW', 'SUL', 'SUN', 'SVW', 'SYD', 'TAH', 'TCL', 'TLS', 'TLT', 'TNE', 'TPG', 'TWE', 'TYR', 'VAP', 'VAS', 'VCX', 'VEA', 'VEU', 'VGS', 'VOC', 'VTS', 'VUK', 'WAM', 'WBC', 'WEB', 'WES', 'WOR', 'WOW', 'WPL', 'WPR', 'WTC', 'XRO', 'YAL', 'Z1P', 'ZIM']\n",
      "ALLORDS ['360', '3DP', 'A200', 'A2M', 'A4N', 'AAA', 'AAC', 'ABB', 'ABC', 'ABP', 'ABR', 'ABY', 'AD8', 'ADH', 'ADI', 'ADN', 'ADO', 'ADT', 'AEF', 'AFG', 'AFI', 'AFP', 'AGG', 'AGL', 'AHY', 'AIA', 'AIZ', 'AKP', 'ALC', 'ALD', 'ALG', 'ALK', 'ALL', 'ALQ', 'ALU', 'ALX', 'AMA', 'AMC', 'AMI', 'AMP', 'ANN', 'ANZ', 'AOF', 'APA', 'APE', 'API', 'APL', 'APT', 'APX', 'AQR', 'AQZ', 'ARB', 'ARF', 'ARG', 'ART', 'ASB', 'ASG', 'ASIA', 'ASM', 'AST', 'ASX', 'AUB', 'AUI', 'AVN', 'AVZ', 'AWC', 'AX1', 'AZJ', 'BAP', 'BBN', 'BCK', 'BEN', 'BET', 'BFG', 'BGA', 'BGL', 'BGP', 'BHP', 'BILL', 'BIN', 'BKI', 'BKL', 'BKW', 'BLD', 'BLX', 'BOQ', 'BPT', 'BRG', 'BRN', 'BSL', 'BTH', 'BVS', 'BWP', 'BWX', 'BXB', 'CAJ', 'CAR', 'CAT', 'CBA', 'CCL', 'CCP', 'CCX', 'CDA', 'CEN', 'CGC', 'CGF', 'CHC', 'CHN', 'CIA', 'CIM', 'CIN', 'CIP', 'CKF', 'CLW', 'CMM', 'CMW', 'CNI', 'CNU', 'COE', 'COF', 'COH', 'COL', 'CPU', 'CQE', 'CQR', 'CRED', 'CRN', 'CSL', 'CSR', 'CTD', 'CTT', 'CUV', 'CVN', 'CWN', 'CWP', 'CWY', 'CXL', 'DBI', 'DDH', 'DDR', 'DEG', 'DHG', 'DJRE', 'DJW', 'DMP', 'DOW', 'DRR', 'DTL', 'DUB', 'DUI', 'DXS', 'EBO', 'ECX', 'EHE', 'EHL', 'ELD', 'ELO', 'EML', 'EMR', 'EOF', 'EOS', 'EQT', 'ERA', 'ERD', 'ETHI', 'EVN', 'EVT', 'FAIR', 'FBU', 'FCL', 'FDV', 'FGG', 'FGX', 'FLN', 'FLT', 'FMG', 'FPH', 'FSF', 'GCI', 'GDI', 'GDX', 'GEM', 'GMA', 'GMG', 'GNC', 'GNE', 'GOLD', 'GOR', 'GOZ', 'GPT', 'GRR', 'GUD', 'GWA', 'GXY', 'HACK', 'HBRD', 'HDN', 'HGH', 'HLS', 'HM1', 'HMC', 'HPI', 'HSN', 'HT1', 'HTA', 'HUB', 'HUM', 'HVN', 'HYGG', 'IAA', 'IAF', 'IAG', 'IAP', 'IDX', 'IEL', 'IEM', 'IEU', 'IFL', 'IFM', 'IFRA', 'IFT', 'IGO', 'IHVV', 'IJP', 'ILC', 'ILU', 'IMD', 'IMU', 'INA', 'ING', 'INR', 'IOO', 'IOZ', 'IPH', 'IPL', 'IRE', 'IRI', 'ISX', 'IVC', 'IVE', 'IVV', 'IXJ', 'JBH', 'JHG', 'JHX', 'JIN', 'JLG', 'JMS', 'KGN', 'KKC', 'KMD', 'LEP', 'LFG', 'LFS', 'LGL', 'LIC', 'LLC', 'LNK', 'LOV', 'LSF', 'LTR', 'LYC', 'MAH', 'MAQ', 'MCR', 'MCY', 'MEZ', 'MFF', 'MFG', 'MGF', 'MGH', 'MGOC', 'MGR', 'MGX', 'MHH', 'MICH', 'MIN', 'MIR', 'MLT', 'MMM', 'MMS', 'MND', 'MNF', 'MNY', 'MOE', 'MP1', 'MPL', 'MQG', 'MSB', 'MTS', 'MVA', 'MVP', 'MVW', 'MXT', 'MYS', 'MYX', 'NAB', 'NAN', 'NBI', 'NCK', 'NCM', 'NDQ', 'NEA', 'NEC', 'NHC', 'NHF', 'NIC', 'NSR', 'NST', 'NTO', 'NUF', 'NVX', 'NWH', 'NWL', 'NWS', 'NXL', 'NXT', 'OBL', 'OCA', 'OCL', 'OMH', 'OML', 'OPH', 'OPT', 'ORA', 'ORE', 'ORG', 'ORI', 'OSH', 'OZL', 'PAI', 'PAR', 'PBH', 'PCI', 'PDL', 'PDN', 'PGF', 'PGG', 'PGH', 'PL8', 'PLL', 'PLS', 'PMC', 'PME', 'PMGOLD', 'PMV', 'PNI', 'PNV', 'PPC', 'PPE', 'PPH', 'PPK', 'PPS', 'PPT', 'PRN', 'PRU', 'PSI', 'PSQ', 'PTM', 'PWG', 'PWH', 'PYC', 'QAN', 'QBE', 'QPON', 'QRI', 'QUAL', 'QUB', 'RAC', 'RBD', 'RBL', 'RDC', 'REA', 'RED', 'REG', 'REH', 'RF1', 'RFF', 'RHC', 'RIO', 'RMC', 'RMD', 'RMS', 'RRL', 'RSG', 'RWC', 'S32', 'SBM', 'SCG', 'SCP', 'SDF', 'SEK', 'SFR', 'SFY', 'SGF', 'SGLLV', 'SGM', 'SGP', 'SGR', 'SHL', 'SHV', 'SIG', 'SIQ', 'SKC', 'SKI', 'SKO', 'SLC', 'SLF', 'SLK', 'SLR', 'SM1', 'SNZ', 'SOL', 'SPK', 'SPL', 'SSM', 'SSR', 'STO', 'STW', 'STX', 'SUL', 'SUN', 'SVW', 'SWM', 'SXL', 'SXY', 'SYD', 'SYR', 'SZL', 'TAH', 'TCL', 'TGR', 'TLG', 'TLS', 'TLT', 'TLX', 'TNE', 'TPG', 'TPW', 'TWE', 'TYR', 'UMG', 'UNI', 'UOS', 'URW', 'UWL', 'VACF', 'VAF', 'VAP', 'VAS', 'VCX', 'VDBA', 'VDGR', 'VDHG', 'VEA', 'VEU', 'VG1', 'VG8', 'VGAD', 'VGB', 'VGE', 'VGI', 'VGL', 'VGS', 'VHY', 'VIF', 'VOC', 'VRT', 'VSO', 'VTS', 'VUK', 'VUL', 'WAF', 'WAM', 'WBC', 'WEB', 'WES', 'WGB', 'WGN', 'WGX', 'WHC', 'WHF', 'WLE', 'WMI', 'WOR', 'WOW', 'WPL', 'WPP', 'WPR', 'WSA', 'WSP', 'WTC', 'XARO', 'XRO', 'YAL', 'Z1P', 'ZEL', 'ZIM']\n",
      "SMALLORDS ['ABP', 'AX1', 'ABC', 'AQG', 'AMA', 'AYS', 'APE', 'ADI', 'APX', 'ARB', 'ALG', 'ARF', 'AHY', 'AUB', 'AIA', 'AD8', 'AMI', 'ASB', 'AAC', 'API', 'AVN', 'AVH', 'BBN', 'BAP', 'BGA', 'BGL', 'BIN', 'BKL', 'BVS', 'BRG', 'BKW', 'BUB', 'BWP', 'BWX', 'CDD', 'CVN', 'CWP', 'CNI', 'CIP', 'COF', 'CIA', 'CLW', 'CQR', 'CQE', 'CNU', 'CUV', 'CDA', 'CKF', 'COE', 'CTD', 'CGC', 'CCP', 'CMW', 'CSR', 'DCN', 'DTL', 'DHG', 'ECX', 'ELD', 'EHL', 'EML', 'EHE', 'FAR', 'FPH', 'FBU', 'FXL', 'FNP', 'GUD', 'GEM', 'GXY', 'GDI', 'GMA', 'GOR', 'GNC', 'GOZ', 'GWA', 'HSN', 'HVN', 'HLS', 'HPI', 'HT1', 'HUB', 'IEL', 'IGO', 'IMD', 'IFN', 'IFM', 'INA', 'ING', 'ITG', 'IRI', 'IAP', 'IVC', 'INR', 'IFL', 'IPH', 'IRE', 'ISX', 'IGL', 'JHG', 'JHC', 'JIN', 'JMS', 'KAR', 'KGN', 'LIC', 'LOV', 'LYC', 'MAH', 'MGX', 'MIN', 'MLD', 'MMS', 'MND', 'MNY', 'MP1', 'MSB', 'MTS', 'MVF', 'MYR', 'MYS', 'MYX', 'NAN', 'NCK', 'NCZ', 'NEA', 'NGI', 'NHC', 'NIC', 'NSR', 'NUF', 'NWH', 'NWL', 'NWS', 'NXT', 'OBL', 'OFX', 'OGC', 'OML', 'ORE', 'PDL', 'PDN', 'PET', 'PGH', 'PLS', 'PME', 'PMV', 'PNI', 'PNV', 'PPT', 'PRN', 'PRU', 'PTM', 'RDC', 'REG', 'RFF', 'RMS', 'RRL', 'RSG', 'SAR', 'SBM', 'SCP', 'SDA', 'SDF', 'SFR', 'SGF', 'SGM', 'SHV', 'SIG', 'SIQ', 'SKC', 'SLC', 'SLR', 'SM1', 'SPK', 'SPL', 'SSM', 'SUL', 'SVW', 'SWM', 'SXL', 'SXY', 'SYR', 'TGR', 'TNE', 'UMG', 'VEA', 'VOC', 'VRL', 'VRT', 'VVR', 'WAF', 'WEB', 'WGX', 'WPP', 'WSA', 'Z1P']\n"
     ]
    }
   ],
   "source": [
    "ASX200, ALLORDS, SMALLORDS = [], [], []\n",
    "asx_list = [ASX200, ALLORDS, SMALLORDS]\n",
    "for index, url in enumerate ([asx_200, all_ords, small_ords]):\n",
    "    res = requests.get(url, headers = header)\n",
    "    soup = BeautifulSoup(res.text, 'html.parser') # Prints off html scipt \n",
    "    divs = soup.findAll('table', class_='tableizer-table sortable')[0].findAll('tbody')\n",
    "    for i, val in enumerate(divs[0]):\n",
    "        if len(val) > 1:\n",
    "            text = re.sub(r\"[<trd>]\",\"\",str(val))\n",
    "            text = text.split('/')\n",
    "            asx_list[index].append(text[0])\n",
    "\n",
    "print('ASX200', ASX200)\n",
    "print('ALLORDS', ALLORDS)\n",
    "print('SMALLORDS', SMALLORDS)"
   ]
  },
  {
   "cell_type": "code",
   "execution_count": 55,
   "id": "cb50b70e-f3d6-4113-9de6-395ee79b82c3",
   "metadata": {},
   "outputs": [
    {
     "name": "stdout",
     "output_type": "stream",
     "text": [
      "200 200 False\n"
     ]
    }
   ],
   "source": [
    "stockList = ASX200\n",
    "stocks = [stock + '.AX' for stock in stockList]\n",
    "stocks_set = set(stocks)\n",
    "\n",
    "contains_duplicates = len(stocks_set) != len(stocks)\n",
    "contains_duplicates = any(stocks.count(stock) > 1 for stock in stockList)\n",
    "\n",
    "print(len(stock_set), len(stocks), contains_duplicates)"
   ]
  },
  {
   "cell_type": "code",
   "execution_count": 59,
   "id": "a7e9c64f-7131-4617-8388-1b7ed5133d07",
   "metadata": {},
   "outputs": [
    {
     "name": "stdout",
     "output_type": "stream",
     "text": [
      "A2M.AX\n",
      "{'balanceSheetHistory': {'A2M.AX': [{'2021-06-30': {'intangibleAssets': 6965000, 'totalLiab': 288051000, 'totalStockholderEquity': 1083960000, 'otherCurrentLiab': 4746000, 'totalAssets': 1372011000, 'commonStock': 149121000, 'retainedEarnings': 1044937000, 'otherLiab': 511000, 'goodWill': 8172000, 'treasuryStock': -110098000, 'otherAssets': 69715000, 'cash': 875150000, 'totalCurrentLiabilities': 274690000, 'deferredLongTermAssetCharges': 53101000, 'otherStockholderEquity': -106325000, 'propertyPlantEquipment': 32464000, 'totalCurrentAssets': 1096892000, 'longTermInvestments': 157803000, 'netTangibleAssets': 1068823000, 'netReceivables': 81719000, 'inventory': 112204000, 'accountsPayable': 40986000}}, {'2020-06-30': {'intangibleAssets': 4558000, 'totalLiab': 319255000, 'totalStockholderEquity': 1134062000, 'deferredLongTermLiab': 957000, 'otherCurrentLiab': 20101000, 'totalAssets': 1453317000, 'commonStock': 146933000, 'retainedEarnings': 964279000, 'otherLiab': 392000, 'goodWill': 8125000, 'treasuryStock': 22850000, 'otherAssets': 29158000, 'cash': 413032000, 'totalCurrentLiabilities': 305427000, 'deferredLongTermAssetCharges': 28201000, 'otherStockholderEquity': 32881000, 'propertyPlantEquipment': 30350000, 'totalCurrentAssets': 1128546000, 'longTermInvestments': 252580000, 'netTangibleAssets': 1121379000, 'shortTermInvestments': 441146000, 'netReceivables': 70700000, 'inventory': 147332000, 'accountsPayable': 129951000}}, {'2019-06-30': {'intangibleAssets': 4363000, 'totalLiab': 219116000, 'totalStockholderEquity': 787854000, 'deferredLongTermLiab': 665000, 'otherCurrentLiab': 45141000, 'totalAssets': 1006970000, 'commonStock': 144495000, 'retainedEarnings': 578442000, 'otherLiab': 227000, 'goodWill': 7957000, 'treasuryStock': 64917000, 'otherAssets': 8348000, 'cash': 193472000, 'totalCurrentLiabilities': 218889000, 'deferredLongTermAssetCharges': 7683000, 'otherStockholderEquity': 64917000, 'propertyPlantEquipment': 10296000, 'totalCurrentAssets': 689199000, 'longTermInvestments': 286807000, 'netTangibleAssets': 775534000, 'shortTermInvestments': 271333000, 'netReceivables': 66248000, 'inventory': 108453000, 'accountsPayable': 84152000}}, {'2018-06-30': {'intangibleAssets': 4080000, 'totalLiab': 160509000, 'totalStockholderEquity': 555709000, 'deferredLongTermLiab': 803000, 'otherCurrentLiab': 51455000, 'totalAssets': 716218000, 'commonStock': 141566000, 'retainedEarnings': 290701000, 'otherLiab': 120000, 'goodWill': 10209000, 'treasuryStock': 123442000, 'otherAssets': 5664000, 'cash': 154750000, 'totalCurrentLiabilities': 160389000, 'deferredLongTermAssetCharges': 4861000, 'otherStockholderEquity': 123442000, 'propertyPlantEquipment': 9701000, 'totalCurrentAssets': 499702000, 'longTermInvestments': 186862000, 'netTangibleAssets': 541420000, 'shortTermInvestments': 185705000, 'netReceivables': 59131000, 'inventory': 64101000, 'accountsPayable': 66076000}}]}}\n",
      "  time taken 16.913902 s\n"
     ]
    }
   ],
   "source": [
    "balanceSheet = {}\n",
    "incomeStatement = {}\n",
    "cashStatement = {}\n",
    "\n",
    "for stock in stocks:\n",
    "    print(stock)\n",
    "    start = time.time()\n",
    "    yahoo_financials = YahooFinancials(stock)\n",
    "    balance_sheet_data = yahoo_financials.get_financial_stmts('annual', 'balance')\n",
    "    income_sheet_data = yahoo_financials.get_financial_stmts('annual', 'income')\n",
    "    cash_sheet_data = yahoo_financials.get_financial_stmts('annual', 'cash')\n",
    "    print(balance_sheet_data)\n",
    "    end = time.time()\n",
    "    print('  time taken {:2f} s'.format(end-start))\n",
    "    break"
   ]
  },
  {
   "cell_type": "code",
   "execution_count": 64,
   "id": "df96749c-f210-4277-9420-0b25eb9d47a1",
   "metadata": {},
   "outputs": [
    {
     "name": "stdout",
     "output_type": "stream",
     "text": [
      "A2M.AX\n",
      "  time taken 17.644546 s\n"
     ]
    }
   ],
   "source": [
    "balanceSheet = {}\n",
    "incomeStatement = {}\n",
    "cashStatement = {}\n",
    "\n",
    "for stock in stocks:\n",
    "    print(stock)\n",
    "    start = time.time()\n",
    "    yahoo_financials = YahooFinancials(stock)\n",
    "    balance_sheet_data = yahoo_financials.get_financial_stmts('annual', 'balance')\n",
    "    income_statement_data = yahoo_financials.get_financial_stmts('annual', 'income')\n",
    "    cash_statement_data = yahoo_financials.get_financial_stmts('annual', 'cash')\n",
    "    \n",
    "    balanceSheet[stock] = balance_sheet_data['balanceSheetHistory'][stock]\n",
    "    incomeStatement[stock] = income_statement_data['incomeStatementHistory'][stock]\n",
    "    cashStatement[stock] = cash_statement_data['cashflowStatementHistory'][stock]\n",
    "    end = time.time()\n",
    "    print('  time taken {:2f} s'.format(end-start))\n",
    "    break"
   ]
  },
  {
   "cell_type": "code",
   "execution_count": 65,
   "id": "60ab3eb0-b4b9-4e4b-a604-7f8310511bee",
   "metadata": {},
   "outputs": [],
   "source": [
    "balanceSheet = {}\n",
    "incomeStatement = {}\n",
    "cashStatement = {}\n",
    "\n",
    "def retrive_stock_data(stock):\n",
    "    try:\n",
    "        print(stock)\n",
    "        yahoo_financials = YahooFinancials(stock)\n",
    "        balance_sheet_data = yahoo_financials.get_financial_stmts('annual', 'balance')\n",
    "        income_statement_data = yahoo_financials.get_financial_stmts('annual', 'income')\n",
    "        cash_statement_data = yahoo_financials.get_financial_stmts('annual', 'cash')\n",
    "\n",
    "        balanceSheet[stock] = balance_sheet_data['balanceSheetHistory'][stock]\n",
    "        incomeStatement[stock] = income_statement_data['incomeStatementHistory'][stock]\n",
    "        cashStatement[stock] = cash_statement_data['cashflowStatementHistory'][stock]\n",
    "    except:\n",
    "        print('error with retrieving stock data')"
   ]
  },
  {
   "cell_type": "code",
   "execution_count": 66,
   "id": "fe24cee0-d51d-4e35-9b07-4db0a899d7f6",
   "metadata": {},
   "outputs": [
    {
     "name": "stdout",
     "output_type": "stream",
     "text": [
      "A2M.AXAAA.AX\n",
      "\n",
      "ABC.AX\n",
      "ABP.AX\n",
      "AFI.AX\n",
      "AGL.AX\n",
      "AIA.AX\n",
      "ALD.AX\n",
      "ALL.AX\n",
      "ALQ.AX\n",
      "ALU.AX\n",
      "ALX.AX\n",
      "AMC.AX\n",
      "AMP.AX\n",
      "ANN.AX\n",
      "ANZ.AX\n",
      "APA.AX\n",
      "APE.AX\n",
      "APT.AX\n",
      "APX.AX\n",
      "ARB.AX\n",
      "ARG.AX\n",
      "AST.AX\n",
      "ASX.AX\n",
      "AWC.AX\n",
      "AZJ.AX\n",
      "BAP.AX\n",
      "BEN.AX\n",
      "BGA.AX\n",
      "BHP.AX\n",
      "BIN.AX\n",
      "BKW.AX\n",
      "BLD.AX\n",
      "BOQ.AX\n",
      "BPT.AX\n",
      "BRG.AX\n",
      "BSL.AX\n",
      "BWP.AX\n",
      "BXB.AX\n",
      "CAR.AX\n",
      "CBA.AX\n",
      "CCL.AX\n",
      "CCP.AX\n",
      "CDA.AX\n",
      "CGF.AX\n",
      "CHC.AX\n",
      "CHN.AX\n",
      "CIA.AX\n",
      "CIM.AX\n",
      "CLW.AX\n",
      "CMW.AX\n",
      "CNU.AX\n",
      "COH.AX\n",
      "COL.AX\n",
      "CPU.AX\n",
      "CQR.AX\n",
      "CSL.AX\n",
      "CSR.AX\n",
      "CTD.AX\n",
      "CWN.AX\n",
      "CWY.AX\n",
      "DEG.AX\n",
      "DHG.AX\n",
      "DMP.AX\n",
      "DOW.AX\n",
      "DRR.AX\n",
      "DXS.AX\n",
      "EBO.AX\n",
      "ELD.AX\n",
      "EML.AX\n",
      "EVN.AX\n",
      "EVT.AX\n",
      "FBU.AX\n",
      "FLT.AX\n",
      "FMG.AX\n",
      "FPH.AX\n",
      "GMG.AX\n",
      "GNE.AX\n",
      "GOZ.AX\n",
      "GPT.AX\n",
      "GXY.AX\n",
      "HLS.AX\n",
      "HVN.AX\n",
      "IAG.AX\n",
      "IEL.AX\n",
      "IFL.AX\n",
      "IFT.AX\n",
      "IGO.AX\n",
      "ILU.AX\n",
      "IOO.AX\n",
      "IOZ.AX\n",
      "IPL.AX\n",
      "IRE.AX\n",
      "IVV.AX\n",
      "JBH.AX\n",
      "JHX.AX\n",
      "LFG.AX\n",
      "LFS.AX\n",
      "LLC.AX\n",
      "LNK.AX\n",
      "LYC.AX\n",
      "MCY.AX\n",
      "MEZ.AX\n",
      "MFG.AX\n",
      "MGF.AX\n",
      "MGOC.AX\n",
      "MGR.AX\n",
      "MIN.AX\n",
      "MLT.AX\n",
      "MP1.AX\n",
      "MPL.AX\n",
      "MQG.AX\n",
      "MTS.AX\n",
      "NAB.AX\n",
      "NCM.AX\n",
      "NEC.AX\n",
      "NHF.AX\n",
      "NIC.AX\n",
      "NSR.AX\n",
      "NST.AX\n",
      "NUF.AX\n",
      "NWL.AX\n",
      "NXT.AX\n",
      "ORA.AX\n",
      "ORE.AX\n",
      "ORG.AX\n",
      "ORI.AX\n",
      "OSH.AX\n",
      "OZL.AX\n",
      "PBH.AX\n",
      "PDL.AX\n",
      "PLS.AX\n",
      "PME.AX\n",
      "PMGOLD.AX\n",
      "PMV.AX\n",
      "PNI.AX\n",
      "PNV.AX\n",
      "PPT.AX\n",
      "PTM.AX\n",
      "QAN.AX\n",
      "QBE.AX\n",
      "QUB.AX\n",
      "REA.AX\n",
      "REH.AX\n",
      "RHC.AX\n",
      "RIO.AX\n",
      "RMD.AX\n",
      "RRL.AX\n",
      "RWC.AX\n",
      "S32.AX\n",
      "SCG.AX\n",
      "SCP.AX\n",
      "SDF.AX\n",
      "SEK.AX\n",
      "SGM.AX\n",
      "SGP.AX\n",
      "SGR.AX\n",
      "SHL.AX\n",
      "SKC.AX\n",
      "SKI.AX\n",
      "SLK.AX\n",
      "SNZ.AX\n",
      "SOL.AX\n",
      "SPK.AX\n",
      "STO.AX\n",
      "STW.AX\n",
      "SUL.AX\n",
      "SUN.AX\n",
      "SVW.AX\n",
      "SYD.AX\n",
      "TAH.AX\n",
      "TCL.AX\n",
      "TLS.AX\n",
      "TLT.AX\n",
      "TNE.AX\n",
      "TPG.AX\n",
      "TWE.AX\n",
      "TYR.AX\n",
      "VAP.AX\n",
      "VAS.AX\n",
      "VCX.AX\n",
      "VEA.AX\n",
      "VEU.AX\n",
      "VGS.AX\n",
      "VOC.AX\n",
      "VTS.AX\n",
      "VUK.AX\n",
      "WAM.AX\n",
      "WBC.AX\n",
      "WEB.AX\n",
      "WES.AX\n",
      "WOR.AX\n",
      "WOW.AX\n",
      "WPL.AX\n",
      "WPR.AX\n",
      "WTC.AX\n",
      "XRO.AX\n",
      "YAL.AX\n",
      "Z1P.AX\n",
      "ZIM.AX\n",
      "  time taken 623.830625 s\n"
     ]
    }
   ],
   "source": [
    "start = time.time()\n",
    "executor = cf.ThreadPoolExecutor(8)\n",
    "futures = [executor.submit(retrive_stock_data, stock)for stock in stocks]\n",
    "cf.wait(futures)\n",
    "end = time.time()\n",
    "print('  time taken {:2f} s'.format(end-start))"
   ]
  },
  {
   "cell_type": "code",
   "execution_count": 68,
   "id": "e4abf010-b388-4ea6-b09a-416ab25c1166",
   "metadata": {},
   "outputs": [],
   "source": [
    " with open('balanceSheet_ASX200.txt', 'w') as output:\n",
    "        output.write(str(balanceSheet))\n",
    "with open('incomeStatement_ASX200.txt', 'w') as output:\n",
    "        output.write(str(incomeStatement))\n",
    "with open('cashStatement_ASX200.txt', 'w') as output:\n",
    "        output.write(str(cashStatement))"
   ]
  },
  {
   "cell_type": "code",
   "execution_count": 77,
   "id": "e7adccd6-9362-4132-bcd0-c2b1fab0fd6f",
   "metadata": {},
   "outputs": [
    {
     "data": {
      "text/plain": [
       "2057"
      ]
     },
     "execution_count": 77,
     "metadata": {},
     "output_type": "execute_result"
    }
   ],
   "source": [
    "asxComp = pd.read_csv('ASX_Listed_Companies_02-09-2021_12-13-10_AEST.csv')\n",
    "stockList = asxComp.loc[:,'ASX code'].to_list()\n",
    "len(stockList)"
   ]
  },
  {
   "cell_type": "code",
   "execution_count": 82,
   "id": "4b094bfe-431d-4ee5-99ce-c15dac443e01",
   "metadata": {},
   "outputs": [],
   "source": [
    "with open('balanceSheet_ASX200.txt', 'r') as input:\n",
    "    balanceSheet = ast.literal_eval(input.read())\n",
    "\n",
    "with open('incomeStatement_ASX200.txt', 'r') as input:\n",
    "    incomeStatement = ast.literal_eval(input.read())"
   ]
  },
  {
   "cell_type": "code",
   "execution_count": 83,
   "id": "c068d95e-077c-4acd-8fb6-ea662303bc6a",
   "metadata": {},
   "outputs": [
    {
     "name": "stdout",
     "output_type": "stream",
     "text": [
      "Yearly data avail 181 out of 200\n",
      "Some key data missing 25 out of 200\n",
      "EPS Growth NaN 12 out of 200\n"
     ]
    }
   ],
   "source": [
    "roe_dict, epsg_dict = {}, {}\n",
    "count_missing, count_cond, count_eps_0 = 0, 0, 0\n",
    "for (keyB, valB), (keyI, valI) in zip(balanceSheet.items(), incomeStatement.items()):\n",
    "    try:\n",
    "        if keyB == keyI:\n",
    "            yearsI = [k for year in valI for k, v in year.items()]\n",
    "            yearsB = [k for year in valB for k, v in year.items()]\n",
    "            if yearsI == yearsB:\n",
    "                count_cond += 1\n",
    "                equity = [v['totalStockholderEquity'] for year in valB for k, v in year.items()]\n",
    "                commonStock = [v['commonStock'] for year in valB for k, v in year.items()]\n",
    "\n",
    "                profit = [v['grossProfit'] for year in valI for k, v in year.items()]\n",
    "                revenue = [v['totalRevenue'] for year in valI for k, v in year.items()]\n",
    "                netIncome = [v['netIncome'] for year in valI for k, v in year.items()]\n",
    "\n",
    "                roe = [round(netin/equity*100,2) for netin, equity in zip(netIncome, equity)]\n",
    "                roe_dict[keyB] = (round(sum(roe)/len(roe),2), roe)\n",
    "\n",
    "                eps = [round(earn/stono,2) for earn, stono in zip(profit, commonStock)]\n",
    "                \n",
    "                try:\n",
    "                    epsg = []\n",
    "                    for ep in range(len(eps)):\n",
    "                        if ep == 0:\n",
    "                            continue\n",
    "                        elif ep == 1:\n",
    "                            epsg.append(round(100*((eps[ep-1]/eps[ep])-1),2))\n",
    "                        elif ep == 2:\n",
    "                            epsg.append(round(100*((eps[ep-2]/eps[ep])**(1/2)-1),2))\n",
    "                            epsg.append(round(100*((eps[ep-1]/eps[ep])-1),2))\n",
    "                        elif ep == 3:\n",
    "                            epsg.append(round(100*((eps[ep-3]/eps[ep])**(1/3)-1),2))\n",
    "                            epsg.append(round(100*((eps[ep-1]/eps[ep])-1),2))\n",
    "                        else:\n",
    "                            print('More than 4 years of FY data')\n",
    "                        \n",
    "                    epsg_dict[keyB] = (round(sum(epsg)/len(epsg),2), epsg)\n",
    "                except:\n",
    "#                     print(keyB, 'eps contains 0')\n",
    "                    count_eps_0 += 1\n",
    "                    epsg_dict[keyB] = (0, eps)\n",
    "\n",
    "    except:\n",
    "#         print(keyB, 'data missing')\n",
    "        count_missing += 1\n",
    "\n",
    "print('Yearly data avail',count_cond, 'out of', len(balanceSheet))\n",
    "print('Some key data missing', count_missing, 'out of', len(balanceSheet))\n",
    "print('EPS Growth NaN', count_eps_0, 'out of', len(balanceSheet))"
   ]
  },
  {
   "cell_type": "code",
   "execution_count": 84,
   "id": "b6dd4a4b-7916-4ad7-a119-85548760d599",
   "metadata": {},
   "outputs": [
    {
     "name": "stdout",
     "output_type": "stream",
     "text": [
      "-------------------------------------------------- RETURN ON EQUITY --------------------------------------------------\n",
      "-------------------------------------------------- EARNINGS PER SHARE GROWTH --------------------------------------------------\n",
      "-------------------------------------------------- ROE & EPS Growth Critera --------------------------------------------------\n",
      "['ANN.AX', 'ALQ.AX', 'BXB.AX', 'CHC.AX', 'CDA.AX', 'COL.AX', 'DMP.AX', 'FPH.AX', 'JBH.AX', 'NWL.AX', 'PME.AX', 'RMD.AX', 'RIO.AX']\n"
     ]
    }
   ],
   "source": [
    "ROE_req = 10\n",
    "EPSG_req = 10\n",
    "\n",
    "print('-'*50, 'RETURN ON EQUITY','-'*50)\n",
    "roe_crit = {k:v for (k,v) in roe_dict.items() if v[0] >= ROE_req and sum(n < 0 for n in v[1])==0}\n",
    "# print(roe_crit)\n",
    "print('-'*50, 'EARNINGS PER SHARE GROWTH','-'*50)\n",
    "eps_crit = {k:v for (k,v) in epsg_dict.items() if v[0] >= EPSG_req and sum(n < 0 for n in v[1])==0}\n",
    "# print(eps_crit)\n",
    "\n",
    "print('-'*50, 'ROE & EPS Growth Critera','-'*50)\n",
    "both = [key1 for key1 in roe_crit.keys() for key2 in eps_crit.keys() if key2==key1]\n",
    "print(both)"
   ]
  },
  {
   "cell_type": "code",
   "execution_count": null,
   "id": "0bbc7d67-bca2-472f-992f-c08efec6ff02",
   "metadata": {},
   "outputs": [],
   "source": []
  },
  {
   "cell_type": "code",
   "execution_count": null,
   "id": "7bff7ce9-e123-4085-99e1-cd309e097bd5",
   "metadata": {},
   "outputs": [],
   "source": []
  },
  {
   "cell_type": "code",
   "execution_count": null,
   "id": "6bd559bb-71b0-49e3-928c-ee5f25bd2e0b",
   "metadata": {},
   "outputs": [],
   "source": []
  }
 ],
 "metadata": {
  "kernelspec": {
   "display_name": "Python 3 (ipykernel)",
   "language": "python",
   "name": "python3"
  },
  "language_info": {
   "codemirror_mode": {
    "name": "ipython",
    "version": 3
   },
   "file_extension": ".py",
   "mimetype": "text/x-python",
   "name": "python",
   "nbconvert_exporter": "python",
   "pygments_lexer": "ipython3",
   "version": "3.9.5"
  }
 },
 "nbformat": 4,
 "nbformat_minor": 5
}
