{
 "cells": [
  {
   "cell_type": "code",
   "execution_count": 1,
   "id": "764b5e81-d081-4838-b9a1-0a3a97d3b0b2",
   "metadata": {},
   "outputs": [],
   "source": [
    "# https://www.youtube.com/watch?v=NSyli1E53Fk "
   ]
  },
  {
   "cell_type": "code",
   "execution_count": null,
   "id": "026512a3-6e9d-4d88-98e8-9525f0c182e8",
   "metadata": {},
   "outputs": [],
   "source": []
  }
 ],
 "metadata": {
  "kernelspec": {
   "display_name": "Python 3 (ipykernel)",
   "language": "python",
   "name": "python3"
  },
  "language_info": {
   "codemirror_mode": {
    "name": "ipython",
    "version": 3
   },
   "file_extension": ".py",
   "mimetype": "text/x-python",
   "name": "python",
   "nbconvert_exporter": "python",
   "pygments_lexer": "ipython3",
   "version": "3.9.5"
  }
 },
 "nbformat": 4,
 "nbformat_minor": 5
}
